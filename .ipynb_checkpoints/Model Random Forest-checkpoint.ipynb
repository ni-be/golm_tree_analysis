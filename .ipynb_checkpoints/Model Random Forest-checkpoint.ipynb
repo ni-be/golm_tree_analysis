{
 "cells": [
  {
   "cell_type": "markdown",
   "id": "ecacd736",
   "metadata": {},
   "source": [
    "# Classification by pixels"
   ]
  },
  {
   "cell_type": "markdown",
   "id": "449acc4d",
   "metadata": {},
   "source": [
    "# Random forest"
   ]
  },
  {
   "cell_type": "code",
   "execution_count": 11,
   "id": "cc041bcc",
   "metadata": {},
   "outputs": [],
   "source": [
    "import os\n",
    "os.environ['USE_PYGEOS'] = '0'\n",
    "import numpy as np\n",
    "from sklearn import svm\n",
    "from sklearn.ensemble import RandomForestClassifier\n",
    "from sklearn.model_selection import train_test_split\n",
    "from sklearn.impute import SimpleImputer\n",
    "from sklearn.metrics import accuracy_score\n",
    "from osgeo import gdal, ogr"
   ]
  },
  {
   "cell_type": "code",
   "execution_count": 12,
   "id": "0d0720cc",
   "metadata": {},
   "outputs": [],
   "source": [
    "# Load NDVI raster image\n",
    "ndvi_file = 'C:/Uni/4_Semester/Earth_Observation/Final Project/daten/NDVI_CIR_reproj.tif'\n",
    "ndvi_dataset = gdal.Open(ndvi_file)\n",
    "ndvi_array = ndvi_dataset.ReadAsArray()"
   ]
  },
  {
   "cell_type": "code",
   "execution_count": 13,
   "id": "8e57f02f",
   "metadata": {},
   "outputs": [
    {
     "data": {
      "text/plain": [
       "'C:/Uni/4_Semester/Earth_Observation/Final Project/daten/control_point_fusion.shp'"
      ]
     },
     "execution_count": 13,
     "metadata": {},
     "output_type": "execute_result"
    }
   ],
   "source": [
    "# Load control points from the shapefile\n",
    "shapefile = 'C:/Uni/4_Semester/Earth_Observation/Final Project/daten/control_point_fusion.shp'\n",
    "driver = ogr.GetDriverByName('ESRI Shapefile')\n",
    "dataset = driver.Open(shapefile)\n",
    "layer = dataset.GetLayer()\n",
    "\n",
    "shapefile"
   ]
  },
  {
   "cell_type": "code",
   "execution_count": 14,
   "id": "face209d",
   "metadata": {},
   "outputs": [],
   "source": [
    "control_points = []       #Only ndvi\n",
    "\n",
    "for feature in layer:\n",
    "    geometry = feature.GetGeometryRef()\n",
    "    x = geometry.GetX()\n",
    "    y = geometry.GetY()\n",
    "    label = feature.GetField('Class_ID')  \n",
    "    ndvi_value = feature.GetField('ndvi_cir')  \n",
    "    control_points.append([ndvi_value, label])"
   ]
  },
  {
   "cell_type": "code",
   "execution_count": 5,
   "id": "45260a5e",
   "metadata": {},
   "outputs": [
    {
     "data": {
      "text/plain": [
       "array([[0.18868, 2.     ],\n",
       "       [0.02738, 1.     ],\n",
       "       [0.23694, 2.     ],\n",
       "       [0.18733, 2.     ],\n",
       "       [0.22843, 2.     ],\n",
       "       [0.22823, 2.     ],\n",
       "       [0.06201, 1.     ],\n",
       "       [0.11626, 1.     ],\n",
       "       [0.01486, 1.     ],\n",
       "       [0.10849, 1.     ],\n",
       "       [0.09311, 1.     ],\n",
       "       [0.23913, 2.     ],\n",
       "       [0.14168, 2.     ],\n",
       "       [0.16356, 2.     ],\n",
       "       [0.23796, 2.     ],\n",
       "       [0.15691, 1.     ],\n",
       "       [0.14836, 1.     ],\n",
       "       [0.269  , 1.     ],\n",
       "       [0.13606, 1.     ],\n",
       "       [0.20474, 1.     ],\n",
       "       [0.17715, 2.     ],\n",
       "       [0.15851, 2.     ],\n",
       "       [0.13498, 1.     ],\n",
       "       [0.13995, 1.     ],\n",
       "       [0.27296, 2.     ],\n",
       "       [0.12122, 1.     ],\n",
       "       [0.1633 , 1.     ],\n",
       "       [0.13212, 1.     ],\n",
       "       [0.08084, 1.     ],\n",
       "       [0.21871, 2.     ],\n",
       "       [0.16052, 2.     ],\n",
       "       [0.23132, 2.     ],\n",
       "       [0.20154, 2.     ],\n",
       "       [0.16101, 1.     ],\n",
       "       [0.1469 , 1.     ],\n",
       "       [0.12833, 1.     ],\n",
       "       [0.1483 , 1.     ],\n",
       "       [0.137  , 2.     ],\n",
       "       [0.25333, 2.     ],\n",
       "       [0.26251, 2.     ],\n",
       "       [0.1824 , 2.     ],\n",
       "       [0.22672, 2.     ],\n",
       "       [0.1481 , 2.     ],\n",
       "       [0.16624, 2.     ],\n",
       "       [0.1325 , 2.     ],\n",
       "       [0.10854, 1.     ],\n",
       "       [0.07696, 1.     ],\n",
       "       [0.04421, 1.     ],\n",
       "       [0.14327, 1.     ]])"
      ]
     },
     "execution_count": 5,
     "metadata": {},
     "output_type": "execute_result"
    }
   ],
   "source": [
    "# Convert the control points to a numpy arra\n",
    "control_points = np.array(control_points)\n",
    "control_points"
   ]
  },
  {
   "cell_type": "code",
   "execution_count": 16,
   "id": "c7559962",
   "metadata": {
    "scrolled": false
   },
   "outputs": [
    {
     "data": {
      "text/plain": [
       "array([[0.18868],\n",
       "       [0.02738],\n",
       "       [0.23694],\n",
       "       [0.18733],\n",
       "       [0.22843],\n",
       "       [0.22823],\n",
       "       [0.06201],\n",
       "       [0.11626],\n",
       "       [0.01486],\n",
       "       [0.10849],\n",
       "       [0.09311],\n",
       "       [0.23913],\n",
       "       [0.14168],\n",
       "       [0.16356],\n",
       "       [0.23796],\n",
       "       [0.15691],\n",
       "       [0.14836],\n",
       "       [0.269  ],\n",
       "       [0.13606],\n",
       "       [0.20474],\n",
       "       [0.17715],\n",
       "       [0.15851],\n",
       "       [0.13498],\n",
       "       [0.13995],\n",
       "       [0.27296],\n",
       "       [0.12122],\n",
       "       [0.1633 ],\n",
       "       [0.13212],\n",
       "       [0.08084],\n",
       "       [0.21871],\n",
       "       [0.16052],\n",
       "       [0.23132],\n",
       "       [0.20154],\n",
       "       [0.16101],\n",
       "       [0.1469 ],\n",
       "       [0.12833],\n",
       "       [0.1483 ],\n",
       "       [0.137  ],\n",
       "       [0.25333],\n",
       "       [0.26251],\n",
       "       [0.1824 ],\n",
       "       [0.22672],\n",
       "       [0.1481 ],\n",
       "       [0.16624],\n",
       "       [0.1325 ],\n",
       "       [0.10854],\n",
       "       [0.07696],\n",
       "       [0.04421],\n",
       "       [0.14327]])"
      ]
     },
     "execution_count": 16,
     "metadata": {},
     "output_type": "execute_result"
    }
   ],
   "source": [
    "# Obtain NDVI values and control point labels\n",
    "ndvi_values = control_points[:, 0].reshape(-1, 1)\n",
    "labels = control_points[:, 1] #X\n",
    "ndvi_values #y"
   ]
  },
  {
   "cell_type": "code",
   "execution_count": 18,
   "id": "eb7e2e2e",
   "metadata": {},
   "outputs": [
    {
     "data": {
      "text/html": [
       "<style>#sk-container-id-1 {color: black;background-color: white;}#sk-container-id-1 pre{padding: 0;}#sk-container-id-1 div.sk-toggleable {background-color: white;}#sk-container-id-1 label.sk-toggleable__label {cursor: pointer;display: block;width: 100%;margin-bottom: 0;padding: 0.3em;box-sizing: border-box;text-align: center;}#sk-container-id-1 label.sk-toggleable__label-arrow:before {content: \"▸\";float: left;margin-right: 0.25em;color: #696969;}#sk-container-id-1 label.sk-toggleable__label-arrow:hover:before {color: black;}#sk-container-id-1 div.sk-estimator:hover label.sk-toggleable__label-arrow:before {color: black;}#sk-container-id-1 div.sk-toggleable__content {max-height: 0;max-width: 0;overflow: hidden;text-align: left;background-color: #f0f8ff;}#sk-container-id-1 div.sk-toggleable__content pre {margin: 0.2em;color: black;border-radius: 0.25em;background-color: #f0f8ff;}#sk-container-id-1 input.sk-toggleable__control:checked~div.sk-toggleable__content {max-height: 200px;max-width: 100%;overflow: auto;}#sk-container-id-1 input.sk-toggleable__control:checked~label.sk-toggleable__label-arrow:before {content: \"▾\";}#sk-container-id-1 div.sk-estimator input.sk-toggleable__control:checked~label.sk-toggleable__label {background-color: #d4ebff;}#sk-container-id-1 div.sk-label input.sk-toggleable__control:checked~label.sk-toggleable__label {background-color: #d4ebff;}#sk-container-id-1 input.sk-hidden--visually {border: 0;clip: rect(1px 1px 1px 1px);clip: rect(1px, 1px, 1px, 1px);height: 1px;margin: -1px;overflow: hidden;padding: 0;position: absolute;width: 1px;}#sk-container-id-1 div.sk-estimator {font-family: monospace;background-color: #f0f8ff;border: 1px dotted black;border-radius: 0.25em;box-sizing: border-box;margin-bottom: 0.5em;}#sk-container-id-1 div.sk-estimator:hover {background-color: #d4ebff;}#sk-container-id-1 div.sk-parallel-item::after {content: \"\";width: 100%;border-bottom: 1px solid gray;flex-grow: 1;}#sk-container-id-1 div.sk-label:hover label.sk-toggleable__label {background-color: #d4ebff;}#sk-container-id-1 div.sk-serial::before {content: \"\";position: absolute;border-left: 1px solid gray;box-sizing: border-box;top: 0;bottom: 0;left: 50%;z-index: 0;}#sk-container-id-1 div.sk-serial {display: flex;flex-direction: column;align-items: center;background-color: white;padding-right: 0.2em;padding-left: 0.2em;position: relative;}#sk-container-id-1 div.sk-item {position: relative;z-index: 1;}#sk-container-id-1 div.sk-parallel {display: flex;align-items: stretch;justify-content: center;background-color: white;position: relative;}#sk-container-id-1 div.sk-item::before, #sk-container-id-1 div.sk-parallel-item::before {content: \"\";position: absolute;border-left: 1px solid gray;box-sizing: border-box;top: 0;bottom: 0;left: 50%;z-index: -1;}#sk-container-id-1 div.sk-parallel-item {display: flex;flex-direction: column;z-index: 1;position: relative;background-color: white;}#sk-container-id-1 div.sk-parallel-item:first-child::after {align-self: flex-end;width: 50%;}#sk-container-id-1 div.sk-parallel-item:last-child::after {align-self: flex-start;width: 50%;}#sk-container-id-1 div.sk-parallel-item:only-child::after {width: 0;}#sk-container-id-1 div.sk-dashed-wrapped {border: 1px dashed gray;margin: 0 0.4em 0.5em 0.4em;box-sizing: border-box;padding-bottom: 0.4em;background-color: white;}#sk-container-id-1 div.sk-label label {font-family: monospace;font-weight: bold;display: inline-block;line-height: 1.2em;}#sk-container-id-1 div.sk-label-container {text-align: center;}#sk-container-id-1 div.sk-container {/* jupyter's `normalize.less` sets `[hidden] { display: none; }` but bootstrap.min.css set `[hidden] { display: none !important; }` so we also need the `!important` here to be able to override the default hidden behavior on the sphinx rendered scikit-learn.org. See: https://github.com/scikit-learn/scikit-learn/issues/21755 */display: inline-block !important;position: relative;}#sk-container-id-1 div.sk-text-repr-fallback {display: none;}</style><div id=\"sk-container-id-1\" class=\"sk-top-container\"><div class=\"sk-text-repr-fallback\"><pre>RandomForestClassifier()</pre><b>In a Jupyter environment, please rerun this cell to show the HTML representation or trust the notebook. <br />On GitHub, the HTML representation is unable to render, please try loading this page with nbviewer.org.</b></div><div class=\"sk-container\" hidden><div class=\"sk-item\"><div class=\"sk-estimator sk-toggleable\"><input class=\"sk-toggleable__control sk-hidden--visually\" id=\"sk-estimator-id-1\" type=\"checkbox\" checked><label for=\"sk-estimator-id-1\" class=\"sk-toggleable__label sk-toggleable__label-arrow\">RandomForestClassifier</label><div class=\"sk-toggleable__content\"><pre>RandomForestClassifier()</pre></div></div></div></div></div>"
      ],
      "text/plain": [
       "RandomForestClassifier()"
      ]
     },
     "execution_count": 18,
     "metadata": {},
     "output_type": "execute_result"
    }
   ],
   "source": [
    "# Training a classification model\n",
    "# Change 'SVM' to 'RandomForestClassifier' if you want to use a random forest classifier.\n",
    "#classifier = svm.SVC()  # Support Vector Machine (SVM) classifier\n",
    "classifier = RandomForestClassifier()  # Random Forest Classifier\n",
    "classifier.fit(ndvi_values, labels) ##clf"
   ]
  },
  {
   "cell_type": "code",
   "execution_count": 20,
   "id": "3b0ab6e1",
   "metadata": {},
   "outputs": [],
   "source": [
    "# Classify the complete raster image\n",
    "classified_array = np.zeros_like(ndvi_array)  # Matrix for storing classified results\n",
    "\n",
    "rows, cols = ndvi_array.shape\n",
    "for row in range(rows):\n",
    "    for col in range(cols):\n",
    "        ndvi_value = ndvi_array[row, col]\n",
    "        if ndvi_value >= 0:\n",
    "            predicted_label = classifier.predict([[ndvi_value]])[0]\n",
    "            classified_array[row, col] = predicted_label\n",
    "        else:\n",
    "            classified_array[row, col] = 0  # Assign non-vegetation to negative NDVI values.\n"
   ]
  },
  {
   "cell_type": "code",
   "execution_count": 21,
   "id": "1b5508c6",
   "metadata": {},
   "outputs": [
    {
     "data": {
      "text/plain": [
       "0"
      ]
     },
     "execution_count": 21,
     "metadata": {},
     "output_type": "execute_result"
    }
   ],
   "source": [
    "# Save the classified file with the appropriate projection\n",
    "classified_image = 'C:/Uni/4_Semester/Earth_Observation/Final Project/daten/classified_ndvi.tif' # write the path of your classified image\n",
    "driver = gdal.GetDriverByName('GTiff')\n",
    "output_dataset = driver.Create(classified_image, cols, rows, 1, gdal.GDT_Float32)\n",
    "output_dataset.GetRasterBand(1).WriteArray(classified_array)\n"
   ]
  },
  {
   "cell_type": "code",
   "execution_count": 22,
   "id": "5483a73a",
   "metadata": {},
   "outputs": [
    {
     "data": {
      "text/plain": [
       "0"
      ]
     },
     "execution_count": 22,
     "metadata": {},
     "output_type": "execute_result"
    }
   ],
   "source": [
    "# Obtain the projection of the original NDVI raster\n",
    "ndvi_projection = ndvi_dataset.GetProjection()\n",
    "output_dataset.SetProjection(ndvi_projection)"
   ]
  },
  {
   "cell_type": "code",
   "execution_count": 23,
   "id": "06c6fbbd",
   "metadata": {},
   "outputs": [
    {
     "data": {
      "text/plain": [
       "0"
      ]
     },
     "execution_count": 23,
     "metadata": {},
     "output_type": "execute_result"
    }
   ],
   "source": [
    "# Obtain the geospatial transformation of the original NDVI raster\n",
    "ndvi_transform = ndvi_dataset.GetGeoTransform()\n",
    "output_dataset.SetGeoTransform(ndvi_transform)"
   ]
  },
  {
   "cell_type": "code",
   "execution_count": 24,
   "id": "c187ab93",
   "metadata": {},
   "outputs": [
    {
     "name": "stdout",
     "output_type": "stream",
     "text": [
      "Classification completed. Sorted image saved in C:/Uni/4_Semester/Earth_Observation/Final Project/daten/classified_ndvi.tif\n"
     ]
    }
   ],
   "source": [
    "# Save changes and close the datasets\n",
    "output_dataset.FlushCache()\n",
    "output_dataset = None\n",
    "ndvi_dataset = None\n",
    "\n",
    "print(\"Classification completed. Sorted image saved in\", classified_image)"
   ]
  },
  {
   "cell_type": "markdown",
   "id": "b28d1949",
   "metadata": {},
   "source": [
    "# Numpy masking\n"
   ]
  },
  {
   "cell_type": "markdown",
   "id": "11266eaf",
   "metadata": {},
   "source": [
    "# Numpy"
   ]
  },
  {
   "cell_type": "code",
   "execution_count": 25,
   "id": "7d14c11c",
   "metadata": {},
   "outputs": [],
   "source": [
    "import numpy as np\n",
    "import rasterio\n"
   ]
  },
  {
   "cell_type": "code",
   "execution_count": 26,
   "id": "58423c6f",
   "metadata": {},
   "outputs": [],
   "source": [
    "# Raster height (Lidar)\n",
    "lidar_file = \"C:/Uni/4_Semester/Earth_Observation/Final Project/daten/lidar_clipped.tif\"\n",
    "with rasterio.open(lidar_file) as src:\n",
    "    lidar_array = src.read(1)"
   ]
  },
  {
   "cell_type": "code",
   "execution_count": 27,
   "id": "80decc44",
   "metadata": {},
   "outputs": [],
   "source": [
    "# Define the height threshold for the selection\n",
    "min_thres = 34  # Minimum height threshold in meters\n",
    "max_thres = 64  # Maximum height threshold in meters"
   ]
  },
  {
   "cell_type": "code",
   "execution_count": 28,
   "id": "31746776",
   "metadata": {},
   "outputs": [],
   "source": [
    "# Create the mask based on the height threshold\n",
    "mascara = np.logical_and(lidar_array >= min_thres, lidar_array <= max_thres)"
   ]
  },
  {
   "cell_type": "code",
   "execution_count": 29,
   "id": "7a89e19d",
   "metadata": {},
   "outputs": [],
   "source": [
    "# Raster to select\n",
    "raster_file = 'C:/Uni/4_Semester/Earth_Observation/Final Project/daten/classified_ndvi.tif' #write the path of the classified raster\n",
    "with rasterio.open(raster_file) as src:\n",
    "    raster_array = src.read(1)\n",
    "    rows, cols = mascara.shape\n",
    "    window = rasterio.windows.Window(col_off=0, row_off=0, width=cols, height=rows)\n",
    "    raster_array = src.read(1, window=window)\n"
   ]
  },
  {
   "cell_type": "code",
   "execution_count": 30,
   "id": "b77846a6",
   "metadata": {},
   "outputs": [],
   "source": [
    "# Make sure that the raster to be selected has the same shape as the mask.\n",
    "raster_select = np.clip(raster_array, 0, np.max(raster_array))"
   ]
  },
  {
   "cell_type": "code",
   "execution_count": 31,
   "id": "2e44c64d",
   "metadata": {},
   "outputs": [],
   "source": [
    "# Apply the mask to the raster to select\n",
    "raster_select = np.where(mascara, raster_array, 0)\n"
   ]
  },
  {
   "cell_type": "code",
   "execution_count": 33,
   "id": "edd7335a",
   "metadata": {},
   "outputs": [
    {
     "name": "stdout",
     "output_type": "stream",
     "text": [
      "Selection completed. Selected raster saved in C:/Uni/4_Semester/Earth_Observation/Final Project/daten/masking_trees.tif\n"
     ]
    }
   ],
   "source": [
    "# Save the selected raster\n",
    "select_file = 'C:/Uni/4_Semester/Earth_Observation/Final Project/daten/masking_trees.tif'\n",
    "with rasterio.open(raster_file) as src:\n",
    "    profile = src.profile.copy() # Copy the profile from the original raster\n",
    "    with rasterio.open(select_file, 'w', **profile) as dst:\n",
    "        dst.write(raster_select, 1)\n",
    "\n",
    "print(\"Selection completed. Selected raster saved in\", select_file)"
   ]
  }
 ],
 "metadata": {
  "kernelspec": {
   "display_name": "Python 3 (ipykernel)",
   "language": "python",
   "name": "python3"
  },
  "language_info": {
   "codemirror_mode": {
    "name": "ipython",
    "version": 3
   },
   "file_extension": ".py",
   "mimetype": "text/x-python",
   "name": "python",
   "nbconvert_exporter": "python",
   "pygments_lexer": "ipython3",
   "version": "3.10.8"
  }
 },
 "nbformat": 4,
 "nbformat_minor": 5
}
