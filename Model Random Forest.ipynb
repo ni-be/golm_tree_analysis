{
 "cells": [
  {
   "cell_type": "code",
   "execution_count": 16,
   "id": "cc041bcc",
   "metadata": {},
   "outputs": [],
   "source": [
    "import os\n",
    "os.environ['USE_PYGEOS'] = '0'\n",
    "import numpy as np\n",
    "from sklearn import svm\n",
    "from sklearn.ensemble import RandomForestClassifier\n",
    "from sklearn.model_selection import train_test_split\n",
    "from sklearn.metrics import accuracy_score\n",
    "from osgeo import gdal, ogr"
   ]
  },
  {
   "cell_type": "code",
   "execution_count": 17,
   "id": "0d0720cc",
   "metadata": {},
   "outputs": [],
   "source": [
    "# Load NDVI raster image\n",
    "ndvi_file = 'C:/Uni/4_Semester/Earth_Observation/Final Project/daten/NDVI_CIR_reproj.tif'\n",
    "ndvi_dataset = gdal.Open(ndvi_file)\n",
    "ndvi_array = ndvi_dataset.ReadAsArray()"
   ]
  },
  {
   "cell_type": "code",
   "execution_count": 18,
   "id": "8e57f02f",
   "metadata": {},
   "outputs": [
    {
     "data": {
      "text/plain": [
       "'C:/Uni/4_Semester/Earth_Observation/Final Project/daten/control_point_fusion.shp'"
      ]
     },
     "execution_count": 18,
     "metadata": {},
     "output_type": "execute_result"
    }
   ],
   "source": [
    "# Load control points from the shapefile\n",
    "shapefile = 'C:/Uni/4_Semester/Earth_Observation/Final Project/daten/control_point_fusion.shp'\n",
    "driver = ogr.GetDriverByName('ESRI Shapefile')\n",
    "dataset = driver.Open(shapefile)\n",
    "layer = dataset.GetLayer()\n",
    "\n",
    "shapefile"
   ]
  },
  {
   "cell_type": "code",
   "execution_count": 20,
   "id": "face209d",
   "metadata": {},
   "outputs": [],
   "source": [
    "control_points = []\n",
    "\n",
    "for feature in layer:\n",
    "    geometry = feature.GetGeometryRef()\n",
    "    x = geometry.GetX()\n",
    "    y = geometry.GetY()\n",
    "    label = feature.GetField('Class_ID')  \n",
    "    ndvi_value = feature.GetField('ndvi_cir')  # variable nueva\n",
    "    control_points.append([ndvi_value, label])"
   ]
  },
  {
   "cell_type": "code",
   "execution_count": 5,
   "id": "6e58eedc",
   "metadata": {},
   "outputs": [],
   "source": [
    "#control_points = []   #new data\n",
    "\n",
    "\n",
    "#for feature in layer:\n",
    "#    geometry = feature.GetGeometryRef()\n",
    "#    x = geometry.GetX()\n",
    "#    y = geometry.GetY()\n",
    "#    label = feature.GetField('Class_ID')  \n",
    "#    high = feature.GetField('high') # new variable\n",
    "#    ndvi_value = feature.GetField('ndvi_cir')  \n",
    " #   control_points.append([ndvi_value, label, high])"
   ]
  },
  {
   "cell_type": "code",
   "execution_count": 21,
   "id": "45260a5e",
   "metadata": {},
   "outputs": [
    {
     "data": {
      "text/plain": [
       "array([[0.18868, 2.     ],\n",
       "       [0.02738, 1.     ],\n",
       "       [0.23694, 2.     ],\n",
       "       [0.18733, 2.     ],\n",
       "       [0.22843, 2.     ],\n",
       "       [0.22823, 2.     ],\n",
       "       [0.06201, 1.     ],\n",
       "       [0.11626, 1.     ],\n",
       "       [0.01486, 1.     ],\n",
       "       [0.10849, 1.     ],\n",
       "       [0.09311, 1.     ],\n",
       "       [0.23913, 2.     ],\n",
       "       [0.14168, 2.     ],\n",
       "       [0.16356, 2.     ],\n",
       "       [0.23796, 2.     ],\n",
       "       [0.15691, 1.     ],\n",
       "       [0.14836, 1.     ],\n",
       "       [0.269  , 1.     ],\n",
       "       [0.13606, 1.     ],\n",
       "       [0.20474, 1.     ],\n",
       "       [0.17715, 2.     ],\n",
       "       [0.15851, 2.     ],\n",
       "       [0.13498, 1.     ],\n",
       "       [0.13995, 1.     ],\n",
       "       [0.27296, 2.     ],\n",
       "       [0.12122, 1.     ],\n",
       "       [0.1633 , 1.     ],\n",
       "       [0.13212, 1.     ],\n",
       "       [0.08084, 1.     ],\n",
       "       [0.21871, 2.     ],\n",
       "       [0.16052, 2.     ],\n",
       "       [0.23132, 2.     ],\n",
       "       [0.20154, 2.     ],\n",
       "       [0.16101, 1.     ],\n",
       "       [0.1469 , 1.     ],\n",
       "       [0.12833, 1.     ],\n",
       "       [0.1483 , 1.     ],\n",
       "       [0.137  , 2.     ],\n",
       "       [0.25333, 2.     ],\n",
       "       [0.26251, 2.     ],\n",
       "       [0.1824 , 2.     ],\n",
       "       [0.22672, 2.     ],\n",
       "       [0.1481 , 2.     ],\n",
       "       [0.16624, 2.     ],\n",
       "       [0.1325 , 2.     ],\n",
       "       [0.10854, 1.     ],\n",
       "       [0.07696, 1.     ],\n",
       "       [0.04421, 1.     ],\n",
       "       [0.14327, 1.     ]])"
      ]
     },
     "execution_count": 21,
     "metadata": {},
     "output_type": "execute_result"
    }
   ],
   "source": [
    "# Convert the control points to a numpy arra\n",
    "control_points = np.array(control_points)\n",
    "control_points"
   ]
  },
  {
   "cell_type": "code",
   "execution_count": 22,
   "id": "a84f170a",
   "metadata": {},
   "outputs": [
    {
     "ename": "IndexError",
     "evalue": "index 2 is out of bounds for axis 1 with size 2",
     "output_type": "error",
     "traceback": [
      "\u001b[1;31m---------------------------------------------------------------------------\u001b[0m",
      "\u001b[1;31mIndexError\u001b[0m                                Traceback (most recent call last)",
      "Cell \u001b[1;32mIn[22], line 1\u001b[0m\n\u001b[1;32m----> 1\u001b[0m \u001b[43mcontrol_points\u001b[49m\u001b[43m[\u001b[49m\u001b[43m:\u001b[49m\u001b[43m,\u001b[49m\u001b[38;5;241;43m2\u001b[39;49m\u001b[43m]\u001b[49m\n",
      "\u001b[1;31mIndexError\u001b[0m: index 2 is out of bounds for axis 1 with size 2"
     ]
    }
   ],
   "source": [
    "#control_points[:,2]"
   ]
  },
  {
   "cell_type": "code",
   "execution_count": 11,
   "id": "5f8c132b",
   "metadata": {},
   "outputs": [
    {
     "data": {
      "text/plain": [
       "array([[44.36],\n",
       "       [39.36],\n",
       "       [43.7],\n",
       "       [44.76],\n",
       "       [43.5],\n",
       "       [42.85],\n",
       "       [38.67],\n",
       "       [45.28],\n",
       "       [38.69],\n",
       "       [40.51],\n",
       "       [45.37],\n",
       "       [31.4],\n",
       "       [31.4],\n",
       "       [31.4],\n",
       "       [37.99],\n",
       "       [43.83],\n",
       "       [31.4],\n",
       "       [None],\n",
       "       [None],\n",
       "       [31.4],\n",
       "       [41.77],\n",
       "       [40.44],\n",
       "       [42.71],\n",
       "       [55.81],\n",
       "       [44.12],\n",
       "       [50.64],\n",
       "       [56.9],\n",
       "       [53.25],\n",
       "       [43.86],\n",
       "       [40.79],\n",
       "       [39.67],\n",
       "       [45.21],\n",
       "       [31.4],\n",
       "       [31.4],\n",
       "       [31.4],\n",
       "       [None],\n",
       "       [31.4],\n",
       "       [37.75],\n",
       "       [38.04],\n",
       "       [31.4],\n",
       "       [31.4],\n",
       "       [42.7],\n",
       "       [37.22],\n",
       "       [37.13],\n",
       "       [40.61],\n",
       "       [50.87],\n",
       "       [48.95],\n",
       "       [36.09],\n",
       "       [50.38]], dtype=object)"
      ]
     },
     "execution_count": 11,
     "metadata": {},
     "output_type": "execute_result"
    }
   ],
   "source": [
    "# Obtener datos de altura de los árboles\n",
    "#height_values = control_points[:, 2].reshape(-1, 1)  # Ajusta la columna correspondiente a los datos de altura en tu control_points\n",
    "#height_values"
   ]
  },
  {
   "cell_type": "code",
   "execution_count": 23,
   "id": "c7559962",
   "metadata": {
    "scrolled": true
   },
   "outputs": [
    {
     "data": {
      "text/plain": [
       "array([[0.18868],\n",
       "       [0.02738],\n",
       "       [0.23694],\n",
       "       [0.18733],\n",
       "       [0.22843],\n",
       "       [0.22823],\n",
       "       [0.06201],\n",
       "       [0.11626],\n",
       "       [0.01486],\n",
       "       [0.10849],\n",
       "       [0.09311],\n",
       "       [0.23913],\n",
       "       [0.14168],\n",
       "       [0.16356],\n",
       "       [0.23796],\n",
       "       [0.15691],\n",
       "       [0.14836],\n",
       "       [0.269  ],\n",
       "       [0.13606],\n",
       "       [0.20474],\n",
       "       [0.17715],\n",
       "       [0.15851],\n",
       "       [0.13498],\n",
       "       [0.13995],\n",
       "       [0.27296],\n",
       "       [0.12122],\n",
       "       [0.1633 ],\n",
       "       [0.13212],\n",
       "       [0.08084],\n",
       "       [0.21871],\n",
       "       [0.16052],\n",
       "       [0.23132],\n",
       "       [0.20154],\n",
       "       [0.16101],\n",
       "       [0.1469 ],\n",
       "       [0.12833],\n",
       "       [0.1483 ],\n",
       "       [0.137  ],\n",
       "       [0.25333],\n",
       "       [0.26251],\n",
       "       [0.1824 ],\n",
       "       [0.22672],\n",
       "       [0.1481 ],\n",
       "       [0.16624],\n",
       "       [0.1325 ],\n",
       "       [0.10854],\n",
       "       [0.07696],\n",
       "       [0.04421],\n",
       "       [0.14327]])"
      ]
     },
     "execution_count": 23,
     "metadata": {},
     "output_type": "execute_result"
    }
   ],
   "source": [
    "# Obtain NDVI values and control point labels\n",
    "ndvi_values = control_points[:, 0].reshape(-1, 1)\n",
    "labels = control_points[:, 1] #X\n",
    "ndvi_values #y"
   ]
  },
  {
   "cell_type": "code",
   "execution_count": 24,
   "id": "e6db283c",
   "metadata": {},
   "outputs": [
    {
     "data": {
      "text/plain": [
       "array([2., 1., 2., 2., 2., 2., 1., 1., 1., 1., 1., 2., 2., 2., 2., 1., 1.,\n",
       "       1., 1., 1., 2., 2., 1., 1., 2., 1., 1., 1., 1., 2., 2., 2., 2., 1.,\n",
       "       1., 1., 1., 2., 2., 2., 2., 2., 2., 2., 2., 1., 1., 1., 1.])"
      ]
     },
     "execution_count": 24,
     "metadata": {},
     "output_type": "execute_result"
    }
   ],
   "source": [
    "labels"
   ]
  },
  {
   "cell_type": "code",
   "execution_count": 25,
   "id": "eb7e2e2e",
   "metadata": {},
   "outputs": [
    {
     "data": {
      "text/html": [
       "<style>#sk-container-id-1 {color: black;background-color: white;}#sk-container-id-1 pre{padding: 0;}#sk-container-id-1 div.sk-toggleable {background-color: white;}#sk-container-id-1 label.sk-toggleable__label {cursor: pointer;display: block;width: 100%;margin-bottom: 0;padding: 0.3em;box-sizing: border-box;text-align: center;}#sk-container-id-1 label.sk-toggleable__label-arrow:before {content: \"▸\";float: left;margin-right: 0.25em;color: #696969;}#sk-container-id-1 label.sk-toggleable__label-arrow:hover:before {color: black;}#sk-container-id-1 div.sk-estimator:hover label.sk-toggleable__label-arrow:before {color: black;}#sk-container-id-1 div.sk-toggleable__content {max-height: 0;max-width: 0;overflow: hidden;text-align: left;background-color: #f0f8ff;}#sk-container-id-1 div.sk-toggleable__content pre {margin: 0.2em;color: black;border-radius: 0.25em;background-color: #f0f8ff;}#sk-container-id-1 input.sk-toggleable__control:checked~div.sk-toggleable__content {max-height: 200px;max-width: 100%;overflow: auto;}#sk-container-id-1 input.sk-toggleable__control:checked~label.sk-toggleable__label-arrow:before {content: \"▾\";}#sk-container-id-1 div.sk-estimator input.sk-toggleable__control:checked~label.sk-toggleable__label {background-color: #d4ebff;}#sk-container-id-1 div.sk-label input.sk-toggleable__control:checked~label.sk-toggleable__label {background-color: #d4ebff;}#sk-container-id-1 input.sk-hidden--visually {border: 0;clip: rect(1px 1px 1px 1px);clip: rect(1px, 1px, 1px, 1px);height: 1px;margin: -1px;overflow: hidden;padding: 0;position: absolute;width: 1px;}#sk-container-id-1 div.sk-estimator {font-family: monospace;background-color: #f0f8ff;border: 1px dotted black;border-radius: 0.25em;box-sizing: border-box;margin-bottom: 0.5em;}#sk-container-id-1 div.sk-estimator:hover {background-color: #d4ebff;}#sk-container-id-1 div.sk-parallel-item::after {content: \"\";width: 100%;border-bottom: 1px solid gray;flex-grow: 1;}#sk-container-id-1 div.sk-label:hover label.sk-toggleable__label {background-color: #d4ebff;}#sk-container-id-1 div.sk-serial::before {content: \"\";position: absolute;border-left: 1px solid gray;box-sizing: border-box;top: 0;bottom: 0;left: 50%;z-index: 0;}#sk-container-id-1 div.sk-serial {display: flex;flex-direction: column;align-items: center;background-color: white;padding-right: 0.2em;padding-left: 0.2em;position: relative;}#sk-container-id-1 div.sk-item {position: relative;z-index: 1;}#sk-container-id-1 div.sk-parallel {display: flex;align-items: stretch;justify-content: center;background-color: white;position: relative;}#sk-container-id-1 div.sk-item::before, #sk-container-id-1 div.sk-parallel-item::before {content: \"\";position: absolute;border-left: 1px solid gray;box-sizing: border-box;top: 0;bottom: 0;left: 50%;z-index: -1;}#sk-container-id-1 div.sk-parallel-item {display: flex;flex-direction: column;z-index: 1;position: relative;background-color: white;}#sk-container-id-1 div.sk-parallel-item:first-child::after {align-self: flex-end;width: 50%;}#sk-container-id-1 div.sk-parallel-item:last-child::after {align-self: flex-start;width: 50%;}#sk-container-id-1 div.sk-parallel-item:only-child::after {width: 0;}#sk-container-id-1 div.sk-dashed-wrapped {border: 1px dashed gray;margin: 0 0.4em 0.5em 0.4em;box-sizing: border-box;padding-bottom: 0.4em;background-color: white;}#sk-container-id-1 div.sk-label label {font-family: monospace;font-weight: bold;display: inline-block;line-height: 1.2em;}#sk-container-id-1 div.sk-label-container {text-align: center;}#sk-container-id-1 div.sk-container {/* jupyter's `normalize.less` sets `[hidden] { display: none; }` but bootstrap.min.css set `[hidden] { display: none !important; }` so we also need the `!important` here to be able to override the default hidden behavior on the sphinx rendered scikit-learn.org. See: https://github.com/scikit-learn/scikit-learn/issues/21755 */display: inline-block !important;position: relative;}#sk-container-id-1 div.sk-text-repr-fallback {display: none;}</style><div id=\"sk-container-id-1\" class=\"sk-top-container\"><div class=\"sk-text-repr-fallback\"><pre>RandomForestClassifier()</pre><b>In a Jupyter environment, please rerun this cell to show the HTML representation or trust the notebook. <br />On GitHub, the HTML representation is unable to render, please try loading this page with nbviewer.org.</b></div><div class=\"sk-container\" hidden><div class=\"sk-item\"><div class=\"sk-estimator sk-toggleable\"><input class=\"sk-toggleable__control sk-hidden--visually\" id=\"sk-estimator-id-1\" type=\"checkbox\" checked><label for=\"sk-estimator-id-1\" class=\"sk-toggleable__label sk-toggleable__label-arrow\">RandomForestClassifier</label><div class=\"sk-toggleable__content\"><pre>RandomForestClassifier()</pre></div></div></div></div></div>"
      ],
      "text/plain": [
       "RandomForestClassifier()"
      ]
     },
     "execution_count": 25,
     "metadata": {},
     "output_type": "execute_result"
    }
   ],
   "source": [
    "# Training a classification model\n",
    "# Change 'SVM' to 'RandomForestClassifier' if you want to use a random forest classifier.\n",
    "#classifier = svm.SVC()  # Support Vector Machine (SVM) classifier\n",
    "classifier = RandomForestClassifier()  # Random Forest Classifier\n",
    "classifier.fit(ndvi_values, labels) ##clf"
   ]
  },
  {
   "cell_type": "code",
   "execution_count": 50,
   "id": "da82c2ca",
   "metadata": {},
   "outputs": [],
   "source": [
    "# Classify the complete raster image\n",
    "#classified_array = np.zeros_like(ndvi_array)  # Matrix for storing classified results\n",
    "\n",
    "#rows, cols = ndvi_array.shape\n",
    "#for row in range(rows):\n",
    "#    for col in range(cols):\n",
    "#        ndvi_value = ndvi_array[row, col]\n",
    "#        predicted_label = classifier.predict([[ndvi_value]])[0]\n",
    "#        classified_array[row, col] = predicted_label"
   ]
  },
  {
   "cell_type": "code",
   "execution_count": 26,
   "id": "3b0ab6e1",
   "metadata": {},
   "outputs": [],
   "source": [
    "# Classify the complete raster image\n",
    "classified_array = np.zeros_like(ndvi_array)  # Matrix for storing classified results\n",
    "\n",
    "rows, cols = ndvi_array.shape\n",
    "for row in range(rows):\n",
    "    for col in range(cols):\n",
    "        ndvi_value = ndvi_array[row, col]\n",
    "        if ndvi_value >= 0:\n",
    "            predicted_label = classifier.predict([[ndvi_value]])[0]\n",
    "            classified_array[row, col] = predicted_label\n",
    "        else:\n",
    "            classified_array[row, col] = 0  # Asignar no vegetación a los valores NDVI negativos\n"
   ]
  },
  {
   "cell_type": "code",
   "execution_count": 61,
   "id": "489d96ec",
   "metadata": {},
   "outputs": [],
   "source": [
    "# Save the sorted image\n",
    "#classified_image = 'C:/Uni/4_Semester/Earth_Observation/Final Project/daten/ndvi_version1.tif'\n",
    "#driver = gdal.GetDriverByName('GTiff')\n",
    "#output_dataset = driver.Create(classified_image, cols, rows, 1, gdal.GDT_Float32)\n",
    "#output_dataset.GetRasterBand(1).WriteArray(classified_array)\n",
    "#output_dataset.FlushCache()"
   ]
  },
  {
   "cell_type": "code",
   "execution_count": 27,
   "id": "1b5508c6",
   "metadata": {},
   "outputs": [
    {
     "data": {
      "text/plain": [
       "0"
      ]
     },
     "execution_count": 27,
     "metadata": {},
     "output_type": "execute_result"
    }
   ],
   "source": [
    "# Save the classified file with the appropriate projection\n",
    "classified_image = 'C:/Uni/4_Semester/Earth_Observation/Final Project/daten/ndvi_clas4.tif'\n",
    "driver = gdal.GetDriverByName('GTiff')\n",
    "output_dataset = driver.Create(classified_image, cols, rows, 1, gdal.GDT_Float32)\n",
    "output_dataset.GetRasterBand(1).WriteArray(classified_array)\n"
   ]
  },
  {
   "cell_type": "code",
   "execution_count": 28,
   "id": "5483a73a",
   "metadata": {},
   "outputs": [
    {
     "data": {
      "text/plain": [
       "0"
      ]
     },
     "execution_count": 28,
     "metadata": {},
     "output_type": "execute_result"
    }
   ],
   "source": [
    "# Obtain the projection of the original NDVI raster\n",
    "ndvi_projection = ndvi_dataset.GetProjection()\n",
    "output_dataset.SetProjection(ndvi_projection)"
   ]
  },
  {
   "cell_type": "code",
   "execution_count": 29,
   "id": "06c6fbbd",
   "metadata": {},
   "outputs": [
    {
     "data": {
      "text/plain": [
       "0"
      ]
     },
     "execution_count": 29,
     "metadata": {},
     "output_type": "execute_result"
    }
   ],
   "source": [
    "# Obtain the geospatial transformation of the original NDVI raster\n",
    "ndvi_transform = ndvi_dataset.GetGeoTransform()\n",
    "output_dataset.SetGeoTransform(ndvi_transform)"
   ]
  },
  {
   "cell_type": "code",
   "execution_count": 30,
   "id": "c187ab93",
   "metadata": {},
   "outputs": [
    {
     "name": "stdout",
     "output_type": "stream",
     "text": [
      "Classification completed. Sorted image saved in C:/Uni/4_Semester/Earth_Observation/Final Project/daten/ndvi_clas4.tif\n"
     ]
    }
   ],
   "source": [
    "# Save changes and close the datasets\n",
    "output_dataset.FlushCache()\n",
    "output_dataset = None\n",
    "ndvi_dataset = None\n",
    "\n",
    "print(\"Classification completed. Sorted image saved in\", classified_image)"
   ]
  },
  {
   "cell_type": "code",
   "execution_count": 62,
   "id": "28a2a816",
   "metadata": {},
   "outputs": [
    {
     "name": "stdout",
     "output_type": "stream",
     "text": [
      "Classification completed. Sorted image saved in C:/Uni/4_Semester/Earth_Observation/Final Project/daten/ndvi_version1.tif\n"
     ]
    }
   ],
   "source": [
    "# Close the datasets\n",
    "#ndvi_dataset = None\n",
    "#output_dataset = None\n",
    "#dataset = None\n",
    "\n",
    "#print(\"Classification completed. Sorted image saved in\", classified_image)\n"
   ]
  },
  {
   "cell_type": "markdown",
   "id": "b28d1949",
   "metadata": {},
   "source": [
    "# Pixels > 0\n"
   ]
  },
  {
   "cell_type": "code",
   "execution_count": 28,
   "id": "d9898aed",
   "metadata": {},
   "outputs": [],
   "source": [
    "# Cargar la imagen raster NDVI\n",
    "ndvi_file = 'C:/Uni/4_Semester/Earth_Observation/Final Project/daten/NDVI_CIR_reproj.tif'\n",
    "ndvi_dataset = gdal.Open(ndvi_file)\n",
    "ndvi_band = ndvi_dataset.GetRasterBand(1)\n",
    "ndvi_array = ndvi_band.ReadAsArray()\n"
   ]
  },
  {
   "cell_type": "code",
   "execution_count": 29,
   "id": "d7ca08da",
   "metadata": {},
   "outputs": [],
   "source": [
    "# Cargar los puntos de control desde el shapefile\n",
    "shapefile = 'C:/Uni/4_Semester/Earth_Observation/Final Project/daten/control_point_fusion.shp'\n",
    "driver = ogr.GetDriverByName('ESRI Shapefile')\n",
    "dataset = driver.Open(shapefile)\n",
    "layer = dataset.GetLayer()"
   ]
  },
  {
   "cell_type": "code",
   "execution_count": 30,
   "id": "d51672a6",
   "metadata": {},
   "outputs": [],
   "source": [
    "control_points = []\n",
    "\n",
    "for feature in layer:\n",
    "    geometry = feature.GetGeometryRef()\n",
    "    x = geometry.GetX()\n",
    "    y = geometry.GetY()\n",
    "    label = feature.GetField('Class_ID')  # Reemplaza 'etiqueta' con el nombre del campo que contiene las etiquetas\n",
    "    ndvi_value = feature.GetField('ndvi_cir')  # Reemplaza 'ndvi' con el nombre del campo que contiene los valores de NDVI\n",
    "    control_points.append([ndvi_value, label])"
   ]
  },
  {
   "cell_type": "code",
   "execution_count": 31,
   "id": "6533ce9e",
   "metadata": {},
   "outputs": [],
   "source": [
    "# Convertir los puntos de control en un array numpy\n",
    "control_points = np.array(control_points)"
   ]
  },
  {
   "cell_type": "code",
   "execution_count": 32,
   "id": "6d35bccf",
   "metadata": {},
   "outputs": [],
   "source": [
    "# Obtener los valores de NDVI y las etiquetas de los puntos de control\n",
    "ndvi_values = control_points[:, 0].reshape(-1, 1)\n",
    "labels = control_points[:, 1]\n"
   ]
  },
  {
   "cell_type": "code",
   "execution_count": 35,
   "id": "31201c98",
   "metadata": {},
   "outputs": [],
   "source": [
    "# Dividir los puntos de control en conjuntos de entrenamiento y prueba\n",
    "train_ndvi, test_ndvi, train_labels, test_labels = train_test_split(ndvi_values, labels, test_size=0.2, random_state=42)\n"
   ]
  },
  {
   "cell_type": "code",
   "execution_count": 36,
   "id": "c4d04177",
   "metadata": {},
   "outputs": [
    {
     "data": {
      "text/html": [
       "<style>#sk-container-id-3 {color: black;background-color: white;}#sk-container-id-3 pre{padding: 0;}#sk-container-id-3 div.sk-toggleable {background-color: white;}#sk-container-id-3 label.sk-toggleable__label {cursor: pointer;display: block;width: 100%;margin-bottom: 0;padding: 0.3em;box-sizing: border-box;text-align: center;}#sk-container-id-3 label.sk-toggleable__label-arrow:before {content: \"▸\";float: left;margin-right: 0.25em;color: #696969;}#sk-container-id-3 label.sk-toggleable__label-arrow:hover:before {color: black;}#sk-container-id-3 div.sk-estimator:hover label.sk-toggleable__label-arrow:before {color: black;}#sk-container-id-3 div.sk-toggleable__content {max-height: 0;max-width: 0;overflow: hidden;text-align: left;background-color: #f0f8ff;}#sk-container-id-3 div.sk-toggleable__content pre {margin: 0.2em;color: black;border-radius: 0.25em;background-color: #f0f8ff;}#sk-container-id-3 input.sk-toggleable__control:checked~div.sk-toggleable__content {max-height: 200px;max-width: 100%;overflow: auto;}#sk-container-id-3 input.sk-toggleable__control:checked~label.sk-toggleable__label-arrow:before {content: \"▾\";}#sk-container-id-3 div.sk-estimator input.sk-toggleable__control:checked~label.sk-toggleable__label {background-color: #d4ebff;}#sk-container-id-3 div.sk-label input.sk-toggleable__control:checked~label.sk-toggleable__label {background-color: #d4ebff;}#sk-container-id-3 input.sk-hidden--visually {border: 0;clip: rect(1px 1px 1px 1px);clip: rect(1px, 1px, 1px, 1px);height: 1px;margin: -1px;overflow: hidden;padding: 0;position: absolute;width: 1px;}#sk-container-id-3 div.sk-estimator {font-family: monospace;background-color: #f0f8ff;border: 1px dotted black;border-radius: 0.25em;box-sizing: border-box;margin-bottom: 0.5em;}#sk-container-id-3 div.sk-estimator:hover {background-color: #d4ebff;}#sk-container-id-3 div.sk-parallel-item::after {content: \"\";width: 100%;border-bottom: 1px solid gray;flex-grow: 1;}#sk-container-id-3 div.sk-label:hover label.sk-toggleable__label {background-color: #d4ebff;}#sk-container-id-3 div.sk-serial::before {content: \"\";position: absolute;border-left: 1px solid gray;box-sizing: border-box;top: 0;bottom: 0;left: 50%;z-index: 0;}#sk-container-id-3 div.sk-serial {display: flex;flex-direction: column;align-items: center;background-color: white;padding-right: 0.2em;padding-left: 0.2em;position: relative;}#sk-container-id-3 div.sk-item {position: relative;z-index: 1;}#sk-container-id-3 div.sk-parallel {display: flex;align-items: stretch;justify-content: center;background-color: white;position: relative;}#sk-container-id-3 div.sk-item::before, #sk-container-id-3 div.sk-parallel-item::before {content: \"\";position: absolute;border-left: 1px solid gray;box-sizing: border-box;top: 0;bottom: 0;left: 50%;z-index: -1;}#sk-container-id-3 div.sk-parallel-item {display: flex;flex-direction: column;z-index: 1;position: relative;background-color: white;}#sk-container-id-3 div.sk-parallel-item:first-child::after {align-self: flex-end;width: 50%;}#sk-container-id-3 div.sk-parallel-item:last-child::after {align-self: flex-start;width: 50%;}#sk-container-id-3 div.sk-parallel-item:only-child::after {width: 0;}#sk-container-id-3 div.sk-dashed-wrapped {border: 1px dashed gray;margin: 0 0.4em 0.5em 0.4em;box-sizing: border-box;padding-bottom: 0.4em;background-color: white;}#sk-container-id-3 div.sk-label label {font-family: monospace;font-weight: bold;display: inline-block;line-height: 1.2em;}#sk-container-id-3 div.sk-label-container {text-align: center;}#sk-container-id-3 div.sk-container {/* jupyter's `normalize.less` sets `[hidden] { display: none; }` but bootstrap.min.css set `[hidden] { display: none !important; }` so we also need the `!important` here to be able to override the default hidden behavior on the sphinx rendered scikit-learn.org. See: https://github.com/scikit-learn/scikit-learn/issues/21755 */display: inline-block !important;position: relative;}#sk-container-id-3 div.sk-text-repr-fallback {display: none;}</style><div id=\"sk-container-id-3\" class=\"sk-top-container\"><div class=\"sk-text-repr-fallback\"><pre>SVC()</pre><b>In a Jupyter environment, please rerun this cell to show the HTML representation or trust the notebook. <br />On GitHub, the HTML representation is unable to render, please try loading this page with nbviewer.org.</b></div><div class=\"sk-container\" hidden><div class=\"sk-item\"><div class=\"sk-estimator sk-toggleable\"><input class=\"sk-toggleable__control sk-hidden--visually\" id=\"sk-estimator-id-3\" type=\"checkbox\" checked><label for=\"sk-estimator-id-3\" class=\"sk-toggleable__label sk-toggleable__label-arrow\">SVC</label><div class=\"sk-toggleable__content\"><pre>SVC()</pre></div></div></div></div></div>"
      ],
      "text/plain": [
       "SVC()"
      ]
     },
     "execution_count": 36,
     "metadata": {},
     "output_type": "execute_result"
    }
   ],
   "source": [
    "# Entrenar un modelo de clasificación\n",
    "# Cambia 'SVM' por 'RandomForestClassifier' si deseas utilizar un clasificador de bosque aleatorio\n",
    "classifier = svm.SVC()  # Clasificador de Máquinas de Vectores de Soporte (SVM)\n",
    "# classifier = RandomForestClassifier()  # Clasificador de Bosque Aleatorio\n",
    "classifier.fit(train_ndvi, train_labels)\n"
   ]
  },
  {
   "cell_type": "code",
   "execution_count": 37,
   "id": "bc208e96",
   "metadata": {},
   "outputs": [],
   "source": [
    "# Clasificar la imagen raster completa\n",
    "rows, cols = ndvi_array.shape\n",
    "classified_array = np.zeros((rows, cols), dtype=np.uint8)  # Matriz para almacenar los resultados clasificados\n",
    "\n",
    "for row in range(rows):\n",
    "    for col in range(cols):\n",
    "        ndvi_value = ndvi_array[row, col]\n",
    "        if ndvi_value > 0:\n",
    "            predicted_label = classifier.predict([[ndvi_value]])[0]\n",
    "            if predicted_label == 'caducifolio':\n",
    "                classified_array[row, col] = 1\n"
   ]
  },
  {
   "cell_type": "code",
   "execution_count": 40,
   "id": "3f3b5d6b",
   "metadata": {},
   "outputs": [],
   "source": [
    "# Calcular la precisión del modelo utilizando los conjuntos de prueba\n",
    "test_predictions = classifier.predict(test_ndvi)\n",
    "accuracy = accuracy_score(test_labels, test_predictions)"
   ]
  },
  {
   "cell_type": "code",
   "execution_count": 41,
   "id": "9eb005a7",
   "metadata": {},
   "outputs": [],
   "source": [
    "# Guardar la imagen clasificada\n",
    "classified_image = 'C:/Uni/4_Semester/Earth_Observation/Final Project/daten/mayoracero.tif'\n",
    "driver = gdal.GetDriverByName('GTiff')\n",
    "output_dataset = driver.Create(classified_image, cols, rows, 1, gdal.GDT_Byte)\n",
    "output_dataset.GetRasterBand(1).WriteArray(classified_array)\n",
    "output_dataset.GetRasterBand(1).SetNoDataValue(0)  # Píxeles sin clasificar se establecen como 0\n",
    "output_dataset.FlushCache()"
   ]
  },
  {
   "cell_type": "code",
   "execution_count": 42,
   "id": "aaf13b80",
   "metadata": {},
   "outputs": [
    {
     "name": "stdout",
     "output_type": "stream",
     "text": [
      "Clasificación completada. Imagen clasificada guardada en C:/Uni/4_Semester/Earth_Observation/Final Project/daten/mayoracero.tif\n",
      "Precisión del modelo: 0.5\n"
     ]
    }
   ],
   "source": [
    "# Cerrar los datasets\n",
    "ndvi_dataset = None\n",
    "output_dataset = None\n",
    "dataset = None\n",
    "\n",
    "print(\"Clasificación completada. Imagen clasificada guardada en\", classified_image)\n",
    "print(\"Precisión del modelo:\", accuracy)\n"
   ]
  },
  {
   "cell_type": "code",
   "execution_count": 16,
   "id": "96ac0163",
   "metadata": {},
   "outputs": [
    {
     "ename": "OverflowError",
     "evalue": "Python int too large to convert to C long",
     "output_type": "error",
     "traceback": [
      "\u001b[1;31m---------------------------------------------------------------------------\u001b[0m",
      "\u001b[1;31mOverflowError\u001b[0m                             Traceback (most recent call last)",
      "Cell \u001b[1;32mIn[16], line 53\u001b[0m\n\u001b[0;32m     50\u001b[0m             classified_array[row, col] \u001b[38;5;241m=\u001b[39m \u001b[38;5;241m0\u001b[39m\n\u001b[0;32m     52\u001b[0m \u001b[38;5;66;03m# Establecer los valores no clasificados como nodata\u001b[39;00m\n\u001b[1;32m---> 53\u001b[0m \u001b[43mclassified_array\u001b[49m\u001b[43m[\u001b[49m\u001b[43mclassified_array\u001b[49m\u001b[43m \u001b[49m\u001b[38;5;241;43m==\u001b[39;49m\u001b[43m \u001b[49m\u001b[38;5;241;43m0\u001b[39;49m\u001b[43m]\u001b[49m \u001b[38;5;241m=\u001b[39m ndvi_dataset\u001b[38;5;241m.\u001b[39mGetRasterBand(\u001b[38;5;241m1\u001b[39m)\u001b[38;5;241m.\u001b[39mGetNoDataValue()\n\u001b[0;32m     55\u001b[0m \u001b[38;5;66;03m# Guardar la imagen clasificada\u001b[39;00m\n\u001b[0;32m     56\u001b[0m classified_image \u001b[38;5;241m=\u001b[39m \u001b[38;5;124m'\u001b[39m\u001b[38;5;124mC:/Uni/4_Semester/Earth_Observation/Final Project/daten/otro_intento.tif\u001b[39m\u001b[38;5;124m'\u001b[39m\n",
      "\u001b[1;31mOverflowError\u001b[0m: Python int too large to convert to C long"
     ]
    }
   ],
   "source": [
    "import numpy as np\n",
    "from sklearn import svm\n",
    "from sklearn.ensemble import RandomForestClassifier\n",
    "from osgeo import gdal, ogr\n",
    "\n",
    "# Cargar la imagen raster NDVI\n",
    "ndvi_file = 'C:/Uni/4_Semester/Earth_Observation/Final Project/daten/NDVI_CIR_reproj.tif'\n",
    "ndvi_dataset = gdal.Open(ndvi_file)\n",
    "ndvi_array = ndvi_dataset.ReadAsArray()\n",
    "\n",
    "# Cargar los puntos de control desde el shapefile\n",
    "shapefile = 'C:/Uni/4_Semester/Earth_Observation/Final Project/daten/control_point_fusion.shp'\n",
    "driver = ogr.GetDriverByName('ESRI Shapefile')\n",
    "dataset = driver.Open(shapefile)\n",
    "layer = dataset.GetLayer()\n",
    "control_points = []\n",
    "\n",
    "for feature in layer:\n",
    "    geometry = feature.GetGeometryRef()\n",
    "    x = geometry.GetX()\n",
    "    y = geometry.GetY()\n",
    "    label = feature.GetField('Class_ID')  # Reemplaza 'etiqueta' con el nombre del campo que contiene las etiquetas\n",
    "    ndvi_value = feature.GetField('ndvi_cir')  # Reemplaza 'ndvi' con el nombre del campo que contiene los valores de NDVI\n",
    "    control_points.append([ndvi_value, label])\n",
    "\n",
    "# Convertir los puntos de control en un array numpy\n",
    "control_points = np.array(control_points)\n",
    "\n",
    "# Obtener los valores de NDVI y las etiquetas de los puntos de control\n",
    "ndvi_values = control_points[:, 0].reshape(-1, 1)\n",
    "labels = control_points[:, 1]\n",
    "\n",
    "# Entrenar un modelo de clasificación\n",
    "# Cambia 'SVM' por 'RandomForestClassifier' si deseas utilizar un clasificador de bosque aleatorio\n",
    "classifier = svm.SVC()  # Clasificador de Máquinas de Vectores de Soporte (SVM)\n",
    "# classifier = RandomForestClassifier()  # Clasificador de Bosque Aleatorio\n",
    "classifier.fit(ndvi_values, labels)\n",
    "\n",
    "# Clasificar la imagen raster completa\n",
    "rows, cols = ndvi_array.shape\n",
    "classified_array = np.zeros_like(ndvi_array, dtype=np.uint8)  # Matriz para almacenar los resultados clasificados\n",
    "\n",
    "for row in range(rows):\n",
    "    for col in range(cols):\n",
    "        ndvi_value = ndvi_array[row, col]\n",
    "        predicted_label = classifier.predict([[ndvi_value]])[0]\n",
    "        if predicted_label == 'caducifolio':\n",
    "            classified_array[row, col] = 1\n",
    "        else:\n",
    "            classified_array[row, col] = 0\n",
    "\n",
    "# Establecer los valores no clasificados como nodata\n",
    "classified_array[classified_array == 0] = ndvi_dataset.GetRasterBand(1).GetNoDataValue()\n",
    "\n",
    "# Guardar la imagen clasificada\n",
    "classified_image = 'C:/Uni/4_Semester/Earth_Observation/Final Project/daten/otro_intento.tif'\n",
    "driver = gdal.GetDriverByName('GTiff')\n",
    "output_dataset = driver.Create(classified_image, cols, rows, 1, gdal.GDT_Byte)\n",
    "output_dataset.GetRasterBand(1).WriteArray(classified_array)\n",
    "output_dataset.FlushCache()\n",
    "output_dataset.GetRasterBand(1).SetNoDataValue(ndvi_dataset.GetRasterBand(1).GetNoDataValue())\n",
    "\n",
    "# Cerrar los datasets\n",
    "ndvi_dataset = None\n",
    "output_dataset = None\n",
    "dataset = None\n",
    "\n",
    "print(\"Clasificación completada. Imagen clasificada guardada en\", classified_image)\n"
   ]
  }
 ],
 "metadata": {
  "kernelspec": {
   "display_name": "Python 3 (ipykernel)",
   "language": "python",
   "name": "python3"
  },
  "language_info": {
   "codemirror_mode": {
    "name": "ipython",
    "version": 3
   },
   "file_extension": ".py",
   "mimetype": "text/x-python",
   "name": "python",
   "nbconvert_exporter": "python",
   "pygments_lexer": "ipython3",
   "version": "3.10.8"
  }
 },
 "nbformat": 4,
 "nbformat_minor": 5
}
